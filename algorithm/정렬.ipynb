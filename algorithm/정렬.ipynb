{
 "cells": [
  {
   "cell_type": "markdown",
   "metadata": {},
   "source": [
    "# sort"
   ]
  },
  {
   "cell_type": "markdown",
   "metadata": {},
   "source": [
    "## merge sort"
   ]
  },
  {
   "cell_type": "code",
   "execution_count": 2,
   "metadata": {},
   "outputs": [],
   "source": []
  },
  {
   "cell_type": "code",
   "execution_count": 3,
   "metadata": {},
   "outputs": [],
   "source": []
  },
  {
   "cell_type": "markdown",
   "metadata": {},
   "source": [
    "## quick sort"
   ]
  },
  {
   "cell_type": "markdown",
   "metadata": {},
   "source": [
    "1. 기준점(pivot)을 정해서 기준점보다 작은 데이터 왼쪽, 큰 데이터는 오른쪽으로 모으는 함수를 작성한다.<br>\n",
    "2. 왼쪽 배열, 오른쪽 배열에 각각 재귀적 용법을 사용해서 다시 동일한 함수를 호출해 위의 작업을 반복한다.<br>\n",
    "3. 함수는 왼쪽, 기준점(pivot), 오른쪽을 리턴한다."
   ]
  },
  {
   "cell_type": "code",
   "execution_count": 6,
   "metadata": {},
   "outputs": [
    {
     "name": "stdout",
     "output_type": "stream",
     "text": [
      "[76, 55, 34, 57, 56, 20, 31, 1, 27, 74]\n"
     ]
    }
   ],
   "source": [
    "# 임의의 배열 생성\n",
    "import random\n",
    "data_list = random.sample(range(100), 10)\n",
    "print(data_list)"
   ]
  },
  {
   "cell_type": "code",
   "execution_count": 4,
   "metadata": {},
   "outputs": [
    {
     "name": "stdout",
     "output_type": "stream",
     "text": [
      "[16, 34, 29, 46, 0, 43, 32] 63 [75, 85]\n"
     ]
    }
   ],
   "source": [
    "# 아래의 과정을 반복해야 함\n",
    "left = []\n",
    "right = []\n",
    "pivot = data_list[0]\n",
    "\n",
    "for idx in range(1, len(data_list)):\n",
    "    if data_list[idx] < pivot:\n",
    "        left.append(data_list[idx])\n",
    "    else:\n",
    "        right.append(data_list[idx])\n",
    "\n",
    "print(left, pivot, right)"
   ]
  },
  {
   "cell_type": "markdown",
   "metadata": {},
   "source": [
    "**알고리즘 구현 : quick sort함수 만들기**\n",
    "1. 만약 리스트의 길이가 1이면 해당 리스트 리턴\n",
    "2. 그렇지 않으면, 리스트 맨 앞의 데이터를 기준점(pivot)으로 놓기\n",
    "3. left, right 리스트 변수를 만들고, 맨 앞의 데이터를 뺀 나머지 데이터를 기준점과 비교\n",
    "    3-1. 기준점보다 작으면 left.append(i)\n",
    "    3-2. 기준점보다 크면 right.append(i)\n",
    "4. return quicksort(left) + pivot + quick_sort(right) 로 재귀 호출"
   ]
  },
  {
   "cell_type": "code",
   "execution_count": 12,
   "metadata": {},
   "outputs": [],
   "source": [
    "def quick_sort(data_list):\n",
    "    if len(data_list)  <= 1:\n",
    "        return data_list\n",
    "    \n",
    "    left, right = [], []\n",
    "    pivot = data_list[0]\n",
    "    \n",
    "    for idx in range(1, len(data_list)):\n",
    "        if pivot > data_list[idx]:\n",
    "            left.append(data_list[idx])\n",
    "        else:\n",
    "            right.append(data_list[idx])\n",
    "    return quick_sort(left) + [pivot] + quick_sort(right)"
   ]
  },
  {
   "cell_type": "code",
   "execution_count": 13,
   "metadata": {},
   "outputs": [
    {
     "data": {
      "text/plain": [
       "[1, 20, 27, 31, 34, 55, 56, 57, 74, 76]"
      ]
     },
     "execution_count": 13,
     "metadata": {},
     "output_type": "execute_result"
    }
   ],
   "source": [
    "quick_sort(data_list)"
   ]
  },
  {
   "cell_type": "code",
   "execution_count": null,
   "metadata": {},
   "outputs": [],
   "source": []
  }
 ],
 "metadata": {
  "kernelspec": {
   "display_name": "pydatavenv",
   "language": "python",
   "name": "pydatavenv"
  },
  "language_info": {
   "codemirror_mode": {
    "name": "ipython",
    "version": 3
   },
   "file_extension": ".py",
   "mimetype": "text/x-python",
   "name": "python",
   "nbconvert_exporter": "python",
   "pygments_lexer": "ipython3",
   "version": "3.7.9"
  },
  "toc": {
   "base_numbering": 1,
   "nav_menu": {},
   "number_sections": true,
   "sideBar": true,
   "skip_h1_title": false,
   "title_cell": "Table of Contents",
   "title_sidebar": "Contents",
   "toc_cell": false,
   "toc_position": {},
   "toc_section_display": true,
   "toc_window_display": false
  }
 },
 "nbformat": 4,
 "nbformat_minor": 4
}
