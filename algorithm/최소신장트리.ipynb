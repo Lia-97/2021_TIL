{
 "cells": [
  {
   "cell_type": "markdown",
   "metadata": {},
   "source": [
    "# 최소신장트리"
   ]
  },
  {
   "cell_type": "markdown",
   "metadata": {},
   "source": [
    "가중치 그래프에서 모든 정점들을 연결하는 간선들의 가중치의 합이 최소가 되는 트리를 찾는 문제<br><br>\n",
    "- 신장 트리 : n개의 정점을 포함하는 무향 그래프에서 **n개의 정점과 n-1개의 간선**으로 구성된 트리<br>\n",
    "- 최소 신장 트리 : 가중치 그래프에서 신장 트리를 구성하는 간선들의 가중치의 합이 최소인 신장 트리"
   ]
  },
  {
   "cell_type": "markdown",
   "metadata": {},
   "source": [
    "## 프림 알고리즘"
   ]
  },
  {
   "cell_type": "markdown",
   "metadata": {},
   "source": [
    "한 정점에 연결된 간선들 중 하나씩 선택하면서 최소 신장 트리를 만들어 가는 방식\n",
    "1. 임의의 정점을 하나 선택해서 시작\n",
    "2. 선택한 정점들과 인접하는 정점들 중에 최소 비용의 간선이 존재하는 정점을 선택\n",
    "3. 모든 정점이 선택될 때까지 두번째 과정 반복"
   ]
  },
  {
   "cell_type": "markdown",
   "metadata": {},
   "source": [
    "### heapq 사용"
   ]
  },
  {
   "cell_type": "code",
   "execution_count": 1,
   "metadata": {},
   "outputs": [],
   "source": [
    "myedges = [\n",
    "    (7, 'A', 'B'), (5, 'A', 'D'),\n",
    "    (8, 'B', 'C'), (9, 'B', 'D'),\n",
    "    (7, 'B', 'E'), (5, 'C', 'E'),\n",
    "    (7, 'D', 'E'), (6, 'D', 'F'),\n",
    "    (8, 'E', 'F'), (9, 'E', 'G'),\n",
    "    (11, 'F', 'G')\n",
    "]"
   ]
  },
  {
   "cell_type": "code",
   "execution_count": 2,
   "metadata": {},
   "outputs": [],
   "source": [
    "from collections import defaultdict\n",
    "from heapq import *\n",
    "\n",
    "def prim(start_node, edges):\n",
    "    mst = [] # 최소신장트리\n",
    "    adjacent_edges = defaultdict(list) # 모든 간선 정보를 저장할 딕셔너리\n",
    "    for weight, n1, n2 in edges:\n",
    "        adjacent_edges[n1].append((weight, n1, n2))\n",
    "        adjacent_edges[n2].append((weight, n1, n2))\n",
    "        \n",
    "    connected_nodes = set(start_node) # 연결된 노드의 집합. start_node는 바로 삽입.\n",
    "    candidate_edge_list = adjacent_edges[start_node] # 간선리스트에 현재 노드와 연결된 간선들을 삽입.\n",
    "    heapify(candidate_edge_list) # 최소 가중치를 가지는 간선부터 추출하기 위해, heapq 로 변경.\n",
    "    \n",
    "    # 간선 리스트에 더 이상 간선이 없을 때까지\n",
    "    while candidate_edge_list:\n",
    "        weight, n1, n2 = heappop(candidate_edge_list) # 최소 가중치를 가지는 노드 pop\n",
    "        if n2 not in connected_nodes: # 해당 노드에 연결된 인접정점이 연결 노드 집합에 들어있지 않다면(사이클 방지)\n",
    "            connected_nodes.add(n2) # 연결노드 집합에 해당 인접 정점을 더한다.\n",
    "            mst.append((weight, n1, n2)) # mst에 해당 간선 정보를 삽입한다.\n",
    "            \n",
    "            for edge in adjacent_edges[n2]: # 해당 인접정점의 간선정보를 순회하는데,\n",
    "                if edge[2] not in connected_nodes: # 인접정점에 연결된 간선 노드가 연결된 노드 집합에 없다면\n",
    "                    heappush(candidate_edge_list, edge) # 간선리스트에 해당 간선 정보를 삽입\n",
    "    return mst"
   ]
  },
  {
   "cell_type": "code",
   "execution_count": 3,
   "metadata": {},
   "outputs": [
    {
     "data": {
      "text/plain": [
       "[(5, 'A', 'D'),\n",
       " (6, 'D', 'F'),\n",
       " (7, 'A', 'B'),\n",
       " (7, 'B', 'E'),\n",
       " (8, 'B', 'C'),\n",
       " (9, 'E', 'G')]"
      ]
     },
     "execution_count": 3,
     "metadata": {},
     "output_type": "execute_result"
    }
   ],
   "source": [
    "prim('A', myedges)"
   ]
  },
  {
   "cell_type": "markdown",
   "metadata": {},
   "source": [
    "## 프림 알고리즘 : heapq 없는 풀이"
   ]
  },
  {
   "cell_type": "code",
   "execution_count": 33,
   "metadata": {},
   "outputs": [],
   "source": [
    "graph = {\n",
    "    0: [(1, 32),(2, 31),(5, 60),(6, 51)],\n",
    "    1: [(0, 32),(2, 21)],\n",
    "    2: [(0, 31),(1, 21),(4, 46),(6, 25)],\n",
    "    3: [(4, 34),(5, 18)],\n",
    "    4: [(2, 46),(3, 34),(5, 40),(6, 51)],\n",
    "    5: [(0, 60),(3, 18),(4, 40)],\n",
    "    6: [(0, 51),(2, 25),(4, 51)]    \n",
    "}"
   ]
  },
  {
   "cell_type": "code",
   "execution_count": 41,
   "metadata": {},
   "outputs": [],
   "source": [
    "# G: 그래프, s: 시작 정점\n",
    "def mst_prim(G, s):\n",
    "    N = len(G)\n",
    "    key = [float('inf')] * N # 가중치를 무한대로 초기화\n",
    "    pi = [None]*N # 트리에서 연결될 부모 정점 초기화\n",
    "    visited = [False]*N # 방문 여부 초기화\n",
    "    key[s] = 0 # 시작 정점의 가중치를 0으로 설정\n",
    "    \n",
    "    for _ in range(N): # 정점의 개수만큼 반복\n",
    "        min_idx = -1\n",
    "        min = float('inf')\n",
    "        for i in range(N):\n",
    "            if not visited[i] and key[i] < min:\n",
    "                min = key[i]\n",
    "                min_idx = i\n",
    "        visited[min_idx] = True # 최소 가중치 정점 방문처리\n",
    "            \n",
    "        for v, val in G[min_idx]: # 선택 정점의 인접한 정점에 대해서\n",
    "            if not visited[v] and val < key[v]:\n",
    "                key[v] = val # 가중치 갱신\n",
    "                pi[v] = min_idx # 트리에서 연결될 부모 정점 갱신\n",
    "    print(key)\n",
    "    print(pi)"
   ]
  },
  {
   "cell_type": "code",
   "execution_count": 42,
   "metadata": {},
   "outputs": [
    {
     "name": "stdout",
     "output_type": "stream",
     "text": [
      "[0, 21, 31, 34, 46, 18, 25]\n",
      "[None, 2, 0, 4, 2, 3, 2]\n"
     ]
    }
   ],
   "source": [
    "mst_prim(graph, 0)"
   ]
  },
  {
   "cell_type": "markdown",
   "metadata": {},
   "source": [
    "## 크루스칼 알고리즘"
   ]
  },
  {
   "cell_type": "code",
   "execution_count": null,
   "metadata": {},
   "outputs": [],
   "source": []
  },
  {
   "cell_type": "code",
   "execution_count": null,
   "metadata": {},
   "outputs": [],
   "source": []
  }
 ],
 "metadata": {
  "kernelspec": {
   "display_name": "pydatavenv",
   "language": "python",
   "name": "pydatavenv"
  },
  "language_info": {
   "codemirror_mode": {
    "name": "ipython",
    "version": 3
   },
   "file_extension": ".py",
   "mimetype": "text/x-python",
   "name": "python",
   "nbconvert_exporter": "python",
   "pygments_lexer": "ipython3",
   "version": "3.7.9"
  },
  "toc": {
   "base_numbering": 1,
   "nav_menu": {},
   "number_sections": true,
   "sideBar": true,
   "skip_h1_title": false,
   "title_cell": "Table of Contents",
   "title_sidebar": "Contents",
   "toc_cell": false,
   "toc_position": {},
   "toc_section_display": true,
   "toc_window_display": false
  }
 },
 "nbformat": 4,
 "nbformat_minor": 4
}
