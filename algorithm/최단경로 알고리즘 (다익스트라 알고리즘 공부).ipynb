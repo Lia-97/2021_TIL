{
 "cells": [
  {
   "cell_type": "markdown",
   "metadata": {},
   "source": [
    "# 최단경로 알고리즘"
   ]
  },
  {
   "cell_type": "markdown",
   "metadata": {},
   "source": [
    "## heapq 라이브러리 활용해보기"
   ]
  },
  {
   "cell_type": "code",
   "execution_count": 1,
   "metadata": {},
   "outputs": [
    {
     "name": "stdout",
     "output_type": "stream",
     "text": [
      "[[1, 'C'], [5, 'B'], [2, 'A'], [7, 'D']]\n",
      "[1, 'C']\n",
      "[2, 'A']\n",
      "[5, 'B']\n",
      "[7, 'D']\n"
     ]
    }
   ],
   "source": [
    "import heapq\n",
    "\n",
    "queue = []\n",
    "\n",
    "heapq.heappush(queue, [2, 'A'])\n",
    "heapq.heappush(queue, [5, 'B'])\n",
    "heapq.heappush(queue, [1, 'C'])\n",
    "heapq.heappush(queue, [7, 'D'])\n",
    "print(queue)\n",
    "for index in range(len(queue)):\n",
    "    print(heapq.heappop(queue))"
   ]
  },
  {
   "cell_type": "markdown",
   "metadata": {},
   "source": [
    "## 다익스트라 알고리즘\n",
    "- 탐색할 그래프의 시작 정점과 다른 정점들간의 최단 거리 구하기"
   ]
  },
  {
   "cell_type": "code",
   "execution_count": 2,
   "metadata": {},
   "outputs": [],
   "source": [
    "mygraph = {\n",
    "    'A': {'B':8, 'C':1, 'D':2},\n",
    "    'B' : {},\n",
    "    'C': {'B':5, 'D':2},\n",
    "    'D': {'E':3, 'F':5},\n",
    "    'E': {'F':1},\n",
    "    'F': {'A':5}\n",
    "}"
   ]
  },
  {
   "cell_type": "code",
   "execution_count": 3,
   "metadata": {},
   "outputs": [],
   "source": [
    "import heapq\n",
    "\n",
    "def dijkstra(graph, start):\n",
    "    \n",
    "    # 초기화\n",
    "    \n",
    "    # 배열을 선언하여 첫 정점에서 각 정점까지의 거리를 저장. 초기에는 첫 정점의 거리는 0, 나머지는 무한대로 저장함\n",
    "    distances = {node: float('inf') for node in graph}\n",
    "    distances[start] = 0\n",
    "    queue = [] # 우선순위 큐\n",
    "    heapq.heappush(queue, [distances[start], start]) # 우선순위 큐에 첫 정점 저장\n",
    "    \n",
    "    # 우선순위 큐가 빌 때까지 노드를 꺼낸다.\n",
    "    while queue:\n",
    "        current_distance, current_node = heapq.heappop(queue) # 우선순위 큐에서 꺼낸 첫 정점의 거리와 번호\n",
    "        \n",
    "        if distances[current_node] < current_distance:\n",
    "            continue\n",
    "        \n",
    "        # 배열에서 꺼낸 첫 정점거리 + 배열에서 꺼낸 첫 정접부터 연결된 노드까지 거리를 더해서 distance 라는 변수에 저장\n",
    "        for adjacent, weight in graph[current_node].items():\n",
    "            distance = current_distance + weight\n",
    "            \n",
    "            # 첫 정점에서 인접한 각 노드로 가는 거리와 현재 배열에 저장되어 있는 첫 정점에서 각 정점까지 거리를 비교\n",
    "            if distance < distances[adjacent]:\n",
    "                # 현재 배열에 저장되어 있는 첫 정점에서 인접한 노드로 가는 거리가 더 짧으면 배열을 업데이트\n",
    "                distances[adjacent] = distance\n",
    "                # 우선순위 큐에도 추가한다.\n",
    "                heapq.heappush(queue, [distance, adjacent])\n",
    "                \n",
    "    return distances"
   ]
  },
  {
   "cell_type": "code",
   "execution_count": 4,
   "metadata": {},
   "outputs": [
    {
     "data": {
      "text/plain": [
       "{'A': 0, 'B': 6, 'C': 1, 'D': 2, 'E': 5, 'F': 6}"
      ]
     },
     "execution_count": 4,
     "metadata": {},
     "output_type": "execute_result"
    }
   ],
   "source": [
    "dijkstra(mygraph, 'A')"
   ]
  },
  {
   "cell_type": "markdown",
   "metadata": {},
   "source": [
    "## 다익스트라 heapq 없는 풀이"
   ]
  },
  {
   "cell_type": "code",
   "execution_count": null,
   "metadata": {},
   "outputs": [],
   "source": [
    "# input\n",
    "\"\"\"\n",
    "5 11\n",
    "0 1 3\n",
    "0 2 5\n",
    "1 2 2\n",
    "1 3 6\n",
    "2 1 1\n",
    "2 3 4\n",
    "2 4 6\n",
    "3 4 2\n",
    "3 5 3\n",
    "4 0 3\n",
    "4 5 6\n",
    "\"\"\""
   ]
  },
  {
   "cell_type": "code",
   "execution_count": null,
   "metadata": {},
   "outputs": [],
   "source": [
    "def dijkstra(s, V): # 시작정점 s, 마지막 정점 V\n",
    "    visited = [0]*(V+1)\n",
    "    visited[s] = 1\n",
    "    for v in range(V+1): # 시작정점과 직접 연결된 노드들에 도달하는 최소비용\n",
    "        cost[v] = adj[s][v]\n",
    "        \n",
    "    for _ in range(V):\n",
    "        min_v = INF\n",
    "        node = 0\n",
    "        for i in range(V+1):\n",
    "            if visited[i] == 0 and min_v > cost[i]:\n",
    "                min_v = cost[i]\n",
    "                node = i\n",
    "        visited[node] = 1\n",
    "    \n",
    "    for v in range(V+1): # 정점 v가\n",
    "        if 0 < adj[node][v] < INF: # w에 인접이면, 시작정점에서 node를 거쳐 v로 가는 비용과\n",
    "            D[v] = min(D[v], D[w]+adj[w][v]) # 시작정점에서 v로 가는 기존 비용을 비교 후 선택\n",
    "\n",
    "INF = 10000\n",
    "V, E = map(int, input().split())\n",
    "adj = [[INF]*(V+1) for _ in range(V+1)]\n",
    "for i in range(V+1):\n",
    "    adj[i][i] = 0\n",
    "for _ in range(E):\n",
    "    u, v, w = map(int, input().split())\n",
    "    adj[[u][v]] = w # 방향성 그래프\n",
    "    \n",
    "cost = [0]*(V+1)\n",
    "dijkstra(0, V)\n",
    "print(cost) # 시작 정점 0에서 각 정점으로 가는 최소 비용"
   ]
  }
 ],
 "metadata": {
  "kernelspec": {
   "display_name": "pydatavenv",
   "language": "python",
   "name": "pydatavenv"
  },
  "language_info": {
   "codemirror_mode": {
    "name": "ipython",
    "version": 3
   },
   "file_extension": ".py",
   "mimetype": "text/x-python",
   "name": "python",
   "nbconvert_exporter": "python",
   "pygments_lexer": "ipython3",
   "version": "3.7.9"
  },
  "toc": {
   "base_numbering": 1,
   "nav_menu": {},
   "number_sections": true,
   "sideBar": true,
   "skip_h1_title": false,
   "title_cell": "Table of Contents",
   "title_sidebar": "Contents",
   "toc_cell": false,
   "toc_position": {},
   "toc_section_display": true,
   "toc_window_display": false
  }
 },
 "nbformat": 4,
 "nbformat_minor": 4
}
